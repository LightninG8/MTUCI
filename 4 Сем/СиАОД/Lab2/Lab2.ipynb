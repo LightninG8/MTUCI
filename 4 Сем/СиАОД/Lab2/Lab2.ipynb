{
 "cells": [
  {
   "cell_type": "markdown",
   "id": "fifteen-sailing",
   "metadata": {
    "id": "fifteen-sailing"
   },
   "source": [
    "# Лабораторная работа №2\n",
    "## Выполнил студент группы БВТ2306 Кесслер Алексей Сергеевич"
   ]
  },
  {
   "cell_type": "markdown",
   "id": "arctic-stocks",
   "metadata": {
    "id": "arctic-stocks"
   },
   "source": [
    "Реализовать следующие структуры данных:\n",
    "  \n",
    "● <b> Стек (stack): </b>  \n",
    "Операции для стека:\n",
    "<i> инициализация, проверка на пустоту, добавление нового элемента в начало, извлечение элемента из начала;  </i>  \n",
    "  \n",
    "● <b> Дек (двусторонняя очередь, deque):  </b>  \n",
    "Операции для дека:\n",
    "<i> инициализация, проверка на пустоту, добавление нового элемента в начало, добавление нового элемента в конец, извлечение элемента из начала, извлечение элемента из конца. </i>  \n",
    "  \n",
    "<i> Разработать программу обработки данных, содержащихся в заранее подготовленном txt-файле, в соответствии с заданиями, применив указанную в задании структуру данных. Результат работы программы вывести на экран и сохранить в отдельном txt-файле. </i>"
   ]
  },
  {
   "cell_type": "code",
   "execution_count": null,
   "id": "99d8c468",
   "metadata": {},
   "outputs": [],
   "source": [
    "class Stack:\n",
    "\tdef __init__(self):\n",
    "\t\tself.items = []\n",
    "\n",
    "\tdef is_empty(self):\n",
    "\t\treturn len(self.items) == 0\n",
    "\n",
    "\tdef push(self, item):\n",
    "\t\tself.items.append(item)\n",
    "\n",
    "\tdef pop(self):\n",
    "\t\tif self.is_empty():\n",
    "\t\t\traise IndexError(\"Удаление из пустого стека\")\n",
    "\t\treturn self.items.pop()\n",
    "\n",
    "\n",
    "class Deque:\n",
    "\tdef __init__(self):\n",
    "\t\tself.items = []\n",
    "\n",
    "\tdef is_empty(self):\n",
    "\t\treturn len(self.items) == 0\n",
    "\n",
    "\tdef unshift(self, item):\n",
    "\t\tself.items.insert(0, item)\n",
    "\n",
    "\tdef push(self, item):\n",
    "\t\tself.items.append(item)\n",
    "\n",
    "\tdef shift(self):\n",
    "\t\tif self.is_empty():\n",
    "\t\t\traise IndexError(\"Удаление из пустого дека\")\n",
    "\t\treturn self.items.pop(0)\n",
    "\n",
    "\tdef pop(self):\n",
    "\t\tif self.is_empty():\n",
    "\t\t\traise IndexError(\"Удаление из пустого дека\")\n",
    "\t\treturn self.items.pop()\n",
    "\n"
   ]
  },
  {
   "cell_type": "markdown",
   "id": "5d7edb08",
   "metadata": {
    "id": "5d7edb08",
    "scrolled": true
   },
   "source": [
    "### Задание №1\n",
    "Отсортировать строки файла, содержащие названия книг, в алфавитном порядке с использованием двух деков."
   ]
  },
  {
   "cell_type": "code",
   "execution_count": null,
   "id": "17702ade",
   "metadata": {
    "id": "17702ade"
   },
   "outputs": [
    {
     "name": "stdout",
     "output_type": "stream",
     "text": [
      "1984\n",
      "Brave New World\n",
      "Crime and Punishment\n",
      "Fahrenheit 451\n",
      "Great Expectations\n",
      "Moby Dick\n",
      "Pride and Prejudice\n",
      "The Catcher in the Rye\n",
      "To Kill a Mockingbird\n",
      "War and Peace\n"
     ]
    }
   ],
   "source": [
    "def sort_books_with_deques(filename_i, filename_o):\n",
    "\tdeque1 = Deque()\n",
    "\tdeque2 = Deque()\n",
    "\n",
    "\twith open(filename_i, 'r', encoding='utf-8') as file:\n",
    "\t\tfor line in file:\n",
    "\t\t\tdeque1.push(line.strip())\n",
    "\n",
    "\twhile not deque1.is_empty():\n",
    "\t\tcurrent = deque1.shift()\n",
    "\t\twhile not deque2.is_empty() and deque2.items[-1] > current:\n",
    "\t\t\tdeque1.unshift(deque2.pop())\n",
    "\t\tdeque2.push(current)\n",
    "\n",
    "\twith open(filename_o, 'w', encoding='utf-8') as file:\n",
    "\t\twhile not deque2.is_empty():\n",
    "\t\t\telem = deque2.shift()\n",
    "\t\t\tfile.write(elem + '\\n')\n",
    "\n",
    "\t\t\tprint(elem)\n",
    "\n",
    "sort_books_with_deques(\"2_1_i.txt\", \"2_1_o.txt\")"
   ]
  },
  {
   "cell_type": "markdown",
   "id": "49fbd2a0",
   "metadata": {
    "id": "49fbd2a0"
   },
   "source": [
    "### Задание №2\n",
    "Дек содержит последовательность символов для шифровки сообщений. Дан текстовый файл, содержащий зашифрованное сообщение. Пользуясь деком, расшифровать текст.\n",
    "Известно, что при шифровке каждый символ сообщения заменялся следующим за ним в деке по часовой стрелке через один."
   ]
  },
  {
   "cell_type": "code",
   "execution_count": 24,
   "id": "81cab7a8",
   "metadata": {
    "id": "81cab7a8"
   },
   "outputs": [
    {
     "name": "stdout",
     "output_type": "stream",
     "text": [
      "Russkie vpered\n"
     ]
    }
   ],
   "source": [
    "def decrypt_message(filename_i, filename_o, deque):\n",
    "    with open(filename_i, 'r', encoding='utf-8') as file:\n",
    "        encrypted_message = file.read().strip()\n",
    "    \n",
    "    decrypted_message = \"\"\n",
    "    for char in encrypted_message:\n",
    "        if char in deque.items:\n",
    "            index = (deque.items.index(char) - 2) % len(deque.items)\n",
    "            decrypted_message += deque.items[index]\n",
    "        else:\n",
    "            decrypted_message += char\n",
    "    \n",
    "    with open(filename_o, 'w', encoding='utf-8') as file:\n",
    "        file.write(decrypted_message)\n",
    "        print(decrypted_message)\n",
    "\n",
    "def generate_encrypted_file(filename, deque, message):\n",
    "\tencrypted_message = \"\"\n",
    "\tfor char in message:\n",
    "\t\tif char in deque.items:\n",
    "\t\t\tindex = (deque.items.index(char) + 2) % len(deque.items)\n",
    "\t\t\tencrypted_message += deque.items[index]\n",
    "\t\telse:\n",
    "\t\t\tencrypted_message += char\n",
    "\n",
    "\twith open(filename, 'w', encoding='utf-8') as file:\n",
    "\t\tfile.write(encrypted_message)\n",
    "        \n",
    "        \n",
    "        \n",
    "encryption_deque = Deque()\n",
    "symbols = \"ABCDEFGHIJKLMNOPQRSTUVWXYZabcdefghijklmnopqrstuvwxyz0123456789 .,!?()-\"\n",
    "for char in symbols:\n",
    "\tencryption_deque.push(char)\n",
    " \n",
    "generate_encrypted_file(\"2_2_i.txt\", encryption_deque, \"Russkie vpered\")\n",
    "decrypt_message(\"2_2_i.txt\", \"2_2_o.txt\", encryption_deque)"
   ]
  },
  {
   "cell_type": "markdown",
   "id": "c0894f47",
   "metadata": {
    "id": "c0894f47"
   },
   "source": [
    "### Задание №3\n",
    "Даны три стержня и n дисков различного размера. Диски можно надевать на стержни, образуя из них башни. Перенести n дисков со стержня А на стержень С, сохранив их первоначальный порядок. При переносе дисков необходимо соблюдать следующие правила:\n",
    "- на каждом шаге со стержня на стержень переносить только один диск;\n",
    "- диск нельзя помещать на диск меньшего размера;\n",
    "- для промежуточного хранения можно использовать стержень В.\n",
    "Реализовать алгоритм, используя три стека вместо стержней А, В, С. Информация о дисках хранится в исходном файле."
   ]
  },
  {
   "cell_type": "code",
   "execution_count": 26,
   "id": "9e91a9d4",
   "metadata": {
    "id": "9e91a9d4"
   },
   "outputs": [
    {
     "name": "stdout",
     "output_type": "stream",
     "text": [
      "3\n",
      "2\n",
      "1\n"
     ]
    }
   ],
   "source": [
    "def move_disks(n, source, target, auxiliary):\n",
    "\tif n == 1:\n",
    "\t\ttarget.push(source.pop())\n",
    "\t\treturn\n",
    "\tmove_disks(n - 1, source, auxiliary, target)\n",
    "\ttarget.push(source.pop())\n",
    "\tmove_disks(n - 1, auxiliary, target, source)\n",
    "\n",
    "\n",
    "def solve_tower_of_hanoi(filename_i, filename_o):\n",
    "\twith open(filename_i, 'r', encoding='utf-8') as file:\n",
    "\t\tdisks = [int(line.strip()) for line in file]\n",
    "\n",
    "\tsource = Stack()\n",
    "\ttarget = Stack()\n",
    "\tauxiliary = Stack()\n",
    "\n",
    "\tfor disk in reversed(disks):\n",
    "\t\tsource.push(disk)\n",
    "\n",
    "\tmove_disks(len(disks), source, target, auxiliary)\n",
    "\n",
    "\twith open(filename_o, 'w', encoding='utf-8') as file:\n",
    "\t\twhile not target.is_empty():\n",
    "\t\t\tline = str(target.pop())\n",
    "\t\t\tprint(line)\n",
    "\t\t\tfile.write(line + '\\n')\n",
    "   \n",
    "   \n",
    "def generate_hanoi_file(filename, num_disks):\n",
    "\twith open(filename, 'w', encoding='utf-8') as file:\n",
    "\t\tfor i in range(num_disks, 0, -1):\n",
    "\t\t\tfile.write(str(i) + '\\n')\n",
    "   \n",
    "generate_hanoi_file(\"2_3_i.txt\", 3)\n",
    "solve_tower_of_hanoi(\"2_3_i.txt\", \"2_3_o.txt\")\n"
   ]
  },
  {
   "cell_type": "markdown",
   "id": "e5b0be17",
   "metadata": {
    "id": "e5b0be17"
   },
   "source": [
    "### Задание №4\n",
    "Дан текстовый файл с программой на алгоритмическом языке. За один просмотр файла проверить баланс круглых скобок в тексте, используя стек."
   ]
  },
  {
   "cell_type": "code",
   "execution_count": 31,
   "id": "5b1df60a",
   "metadata": {
    "id": "5b1df60a"
   },
   "outputs": [
    {
     "name": "stdout",
     "output_type": "stream",
     "text": [
      "Баланс скобок правильный\n"
     ]
    }
   ],
   "source": [
    "def check_balance(filename):\n",
    "    stack = Stack()\n",
    "    \n",
    "    # Словарь для соответствия открывающих и закрывающих скобок\n",
    "    matching_brackets = {\n",
    "        '(': ')',\n",
    "        '{': '}',\n",
    "    }\n",
    "    \n",
    "    with open(filename, 'r', encoding='utf-8') as file:\n",
    "        for line in file:\n",
    "            for char in line:\n",
    "                if char in matching_brackets:  # Открывающая скобка\n",
    "                    stack.push(char)\n",
    "                elif char in matching_brackets.values():  # Закрывающая скобка\n",
    "                    if stack.is_empty():\n",
    "                        return False\n",
    "                    top = stack.pop()\n",
    "                    # Проверяем, соответствует ли закрывающая скобка открытой\n",
    "                    if matching_brackets[top] != char:\n",
    "                        return False\n",
    "    \n",
    "    # Если стек пуст, значит все скобки сбалансированы\n",
    "    return stack.is_empty()\n",
    "\n",
    "filename = '2_4_i.txt' \n",
    "if check_balance(filename):\n",
    "    print(\"Баланс скобок правильный\")\n",
    "else:\n",
    "    print(\"Баланс скобок нарушен\")"
   ]
  },
  {
   "cell_type": "markdown",
   "id": "c44cdd6b",
   "metadata": {
    "id": "c44cdd6b"
   },
   "source": [
    "### Задание №5\n",
    "Дан текстовый файл с программой на алгоритмическом языке. За один просмотр файла проверить баланс квадратных скобок в тексте, используя дек."
   ]
  },
  {
   "cell_type": "code",
   "execution_count": 33,
   "id": "36b8f400",
   "metadata": {
    "id": "36b8f400"
   },
   "outputs": [
    {
     "name": "stdout",
     "output_type": "stream",
     "text": [
      "Баланс квадратных скобок нарушен\n"
     ]
    }
   ],
   "source": [
    "class Deque:\n",
    "    def __init__(self):\n",
    "        self.items = []\n",
    "\n",
    "    def is_empty(self):\n",
    "        return len(self.items) == 0\n",
    "\n",
    "    def push(self, item):\n",
    "        self.items.append(item)  # Добавляем элемент в конец\n",
    "\n",
    "    def unshift(self, item):\n",
    "        self.items.insert(0, item)  # Добавляем элемент в начало\n",
    "\n",
    "    def pop(self):\n",
    "        if self.is_empty():\n",
    "            raise IndexError(\"Удаление из пустого дека\")\n",
    "        return self.items.pop()  # Убираем элемент с конца\n",
    "\n",
    "    def shift(self):\n",
    "        if self.is_empty():\n",
    "            raise IndexError(\"Удаление из пустого дека\")\n",
    "        return self.items.pop(0)  # Убираем элемент с начала\n",
    "\n",
    "\n",
    "def check_square_brackets_balance(filename):\n",
    "    deque = Deque()\n",
    "    \n",
    "    with open(filename, 'r', encoding='utf-8') as file:\n",
    "        for line in file:\n",
    "            for char in line:\n",
    "                if char == '[':  # Открывающая квадратная скобка\n",
    "                    deque.unshift(char) \n",
    "                elif char == ']':  # Закрывающая квадратная скобка\n",
    "                    if deque.is_empty():\n",
    "                        return False  # Закрывающая скобка без соответствующей открывающей\n",
    "                    deque.pop()\n",
    "    \n",
    "    # Если дек пуст, то баланс правильный\n",
    "    return deque.is_empty()\n",
    "\n",
    "\n",
    "# Пример использования\n",
    "filename = '2_5_i.txt' \n",
    "if check_square_brackets_balance(filename):\n",
    "    print(\"Баланс квадратных скобок правильный\")\n",
    "else:\n",
    "    print(\"Баланс квадратных скобок нарушен\")\n"
   ]
  },
  {
   "cell_type": "markdown",
   "id": "59d13dc7",
   "metadata": {
    "id": "59d13dc7"
   },
   "source": [
    "### Задание №6\n",
    "Дан файл из символов. Используя стек, за один просмотр файла напечатать сначала все цифры, затем все буквы, и, наконец, все остальные символы, сохраняя исходный порядок в каждой группе символов."
   ]
  },
  {
   "cell_type": "code",
   "execution_count": null,
   "id": "297e36c2",
   "metadata": {
    "id": "297e36c2"
   },
   "outputs": [
    {
     "name": "stdout",
     "output_type": "stream",
     "text": [
      "654321uoyerawoHdlroWolleH\n",
      "?   ? !"
     ]
    }
   ],
   "source": [
    "def separate_symbols(filename_i, filename_o):\n",
    "    digits_stack = Stack()\n",
    "    letters_stack = Stack()\n",
    "    other_stack = Stack()\n",
    "\n",
    "    with open(filename_i, 'r', encoding='utf-8') as file:\n",
    "        for line in file:\n",
    "            for char in line:\n",
    "                if char.isdigit():\n",
    "                    digits_stack.push(char)\n",
    "                elif char.isalpha():\n",
    "                    letters_stack.push(char)\n",
    "                else:\n",
    "                    other_stack.push(char)\n",
    "    \n",
    "    with open(filename_o, 'w', encoding='utf-8') as file:\n",
    "        while not digits_stack.is_empty():\n",
    "            symbol = digits_stack.pop()\n",
    "            file.write(symbol)\n",
    "            print(symbol, end=\"\")\n",
    "        while not letters_stack.is_empty():\n",
    "            symbol = letters_stack.pop()\n",
    "            file.write(symbol)\n",
    "            print(symbol, end=\"\")\n",
    "        while not other_stack.is_empty():\n",
    "            symbol = other_stack.pop()\n",
    "            file.write(symbol)\n",
    "            print(symbol, end=\"\")\n",
    "\t\t\n",
    "\n",
    "# Пример использования\n",
    "# Поскольку в задании нужно использовать именно стек, то символы в каждой группе выводятся в обратном порядке. Чтобы выводились в исходном порядке, то нужно либо использовать дек, либо реверсить stack.items, но это костыль\n",
    "separate_symbols('2_6_i.txt', '2_6_o.txt')\n"
   ]
  },
  {
   "cell_type": "markdown",
   "id": "973f68bd",
   "metadata": {
    "id": "973f68bd"
   },
   "source": [
    "### Задание №7\n",
    "Дан файл из целых чисел. Используя дек, за один просмотр файла напечатать сначала все отрицательные числа, затем все положительные числа, сохраняя исходный порядок в каждой группе."
   ]
  },
  {
   "cell_type": "code",
   "execution_count": 41,
   "id": "c56fad66",
   "metadata": {
    "id": "c56fad66"
   },
   "outputs": [
    {
     "name": "stdout",
     "output_type": "stream",
     "text": [
      "-3 -1 -7 -6 5 8 4 2 "
     ]
    }
   ],
   "source": [
    "def separate_numbers(filename_i, filename_o):\n",
    "    negative_deque = Deque()\n",
    "    positive_deque = Deque()\n",
    "\n",
    "    with open(filename_i, 'r', encoding='utf-8') as file:\n",
    "        for line in file:\n",
    "            for number in line.split():\n",
    "                num = int(number)\n",
    "                if num < 0:\n",
    "                    negative_deque.push(num)  # Добавляем отрицательные числа в конец дека\n",
    "                elif num > 0:\n",
    "                    positive_deque.push(num)  # Добавляем положительные числа в конец дека\n",
    "\n",
    "    with open(filename_o, 'w', encoding='utf-8') as file:\n",
    "        while not negative_deque.is_empty():\n",
    "            number = negative_deque.shift()\n",
    "            file.write(str(number) + \" \")\n",
    "            print(number, end=\" \")  # Выводим отрицательные числа\n",
    "        while not positive_deque.is_empty():\n",
    "            number = positive_deque.shift()\n",
    "            file.write(str(number) + \" \")\n",
    "            print(number, end=\" \")  # Выводим положительные числа\n",
    "\n",
    "\n",
    "# Пример использования\n",
    "separate_numbers(\"2_7_i.txt\", \"2_7_o.txt\")"
   ]
  },
  {
   "cell_type": "markdown",
   "id": "b9228191",
   "metadata": {
    "id": "b9228191"
   },
   "source": [
    "### Задание №8\n",
    "Дан текстовый файл. Используя стек, сформировать новый текстовый файл, содержащий строки исходного файла, записанные в обратном порядке: первая строка становится последней, вторая – предпоследней и т.д."
   ]
  },
  {
   "cell_type": "code",
   "execution_count": 43,
   "id": "981fbdfe",
   "metadata": {
    "id": "981fbdfe"
   },
   "outputs": [
    {
     "name": "stdout",
     "output_type": "stream",
     "text": [
      "То им Java покажу\n",
      "То им Go в забор просуну\n",
      "Я без шуток не хожу\n",
      "Мимо тёщинного дома\n"
     ]
    }
   ],
   "source": [
    "def reverse_lines(filename_i, filename_o):\n",
    "    stack = Stack()\n",
    "\n",
    "    # Чтение строк из исходного файла и добавление в стек\n",
    "    with open(filename_i, 'r', encoding='utf-8') as infile:\n",
    "        for line in infile:\n",
    "            stack.push(line.strip())  # Добавляем строку в стек (убираем символы новой строки)\n",
    "\n",
    "    # Запись строк в новый файл в обратном порядке\n",
    "    with open(filename_o, 'w', encoding='utf-8') as outfile:\n",
    "        while not stack.is_empty():\n",
    "            line = stack.pop()\n",
    "            print(line)\n",
    "            outfile.write(line + '\\n')  # Извлекаем строку из стека и записываем в файл\n",
    "\n",
    "# Пример использования\n",
    "reverse_lines(\"2_8_i.txt\", \"2_8_o.txt\")"
   ]
  },
  {
   "cell_type": "markdown",
   "id": "rental-jerusalem",
   "metadata": {
    "id": "rental-jerusalem"
   },
   "source": [
    "### Вывод\n"
   ]
  },
  {
   "cell_type": "markdown",
   "id": "0c2b8899",
   "metadata": {
    "id": "0c2b8899"
   },
   "source": []
  }
 ],
 "metadata": {
  "colab": {
   "provenance": [
    {
     "file_id": "1SJnopeql2j1MhzcaJ8o68KaPzPnynIeK",
     "timestamp": 1676536264821
    }
   ]
  },
  "kernelspec": {
   "display_name": "Python 3",
   "language": "python",
   "name": "python3"
  },
  "language_info": {
   "codemirror_mode": {
    "name": "ipython",
    "version": 3
   },
   "file_extension": ".py",
   "mimetype": "text/x-python",
   "name": "python",
   "nbconvert_exporter": "python",
   "pygments_lexer": "ipython3",
   "version": "3.13.1"
  }
 },
 "nbformat": 4,
 "nbformat_minor": 5
}
